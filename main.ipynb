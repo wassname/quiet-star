{
 "cells": [
  {
   "cell_type": "code",
   "execution_count": 2,
   "metadata": {},
   "outputs": [],
   "source": [
    "import torch\n",
    "torch.backends.cuda.matmul.allow_tf32 = True\n",
    "import random\n",
    "from transformers import AutoTokenizer, AutoModelForCausalLM\n",
    "import os\n",
    "import time\n",
    "import re\n",
    "from tqdm import tqdm\n",
    "from collections import Counter"
   ]
  },
  {
   "cell_type": "code",
   "execution_count": 15,
   "metadata": {},
   "outputs": [],
   "source": [
    "from modeling_mistral import MistralForCausalLM"
   ]
  },
  {
   "cell_type": "code",
   "execution_count": 4,
   "metadata": {},
   "outputs": [
    {
     "data": {
      "text/plain": [
       "Namespace(batch_idx=0, baseline=False, device_batch_size=8, max_idx=128, n_votes=8, temp=0.9, start_final_answer_idx=384, answer_length=12, root_prefix='YOUR_ROOT_HERE', checkpoint='ezelikman/quietstar-8-ahead', final_answer_text='/home/wassname/.local/share/jupyter/runtime/kernel-v2-3161588ZqAxHVwx8UO2.json', zero_shot_cot_prompt=\"\\nA: Let's think step by step.\", n_ahead=8)"
      ]
     },
     "execution_count": 4,
     "metadata": {},
     "output_type": "execute_result"
    }
   ],
   "source": [
    "import argparse\n",
    "parser = argparse.ArgumentParser()\n",
    "parser.add_argument(\"--batch_idx\", type=int, default=0)\n",
    "parser.add_argument(\"--baseline\", action=\"store_true\")\n",
    "parser.add_argument(\"--device_batch_size\", type=int, default=8)\n",
    "parser.add_argument(\"--max_idx\", type=int, default=128)\n",
    "parser.add_argument(\"--n_votes\", type=int, default=8)\n",
    "parser.add_argument(\"--temp\", type=float, default=0.9)\n",
    "parser.add_argument(\"--start_final_answer_idx\", type=int, default=384)\n",
    "parser.add_argument(\"--answer_length\", type=int, default=12)\n",
    "parser.add_argument(\"--root_prefix\", type=str, default=\"YOUR_ROOT_HERE\")\n",
    "parser.add_argument(\"--checkpoint\", type=str, default=\"ezelikman/quietstar-8-ahead\")\n",
    "parser.add_argument(\"--final_answer_text\", type=str, default=\"\\nTherefore, the answer (arabic numerals) is\")\n",
    "parser.add_argument(\"--zero_shot_cot_prompt\", type=str, default=\"\\nA: Let's think step by step.\")\n",
    "parser.add_argument(\"--n_ahead\", type=int, default=8)\n",
    "args = parser.parse_args()\n",
    "args"
   ]
  },
  {
   "cell_type": "code",
   "execution_count": null,
   "metadata": {},
   "outputs": [],
   "source": []
  },
  {
   "cell_type": "code",
   "execution_count": 16,
   "metadata": {},
   "outputs": [
    {
     "name": "stdout",
     "output_type": "stream",
     "text": [
      "Loading model\n"
     ]
    },
    {
     "name": "stderr",
     "output_type": "stream",
     "text": [
      "/media/wassname/SGIronWolf/projects5/2024/quiet-star/.venv/lib/python3.9/site-packages/accelerate/utils/modeling.py:1341: UserWarning: Current model requires 184550784 bytes of buffer for offloaded layers, which seems does not fit any GPU's remaining memory. If you are experiencing a OOM later, please consider using offload_buffers=True.\n",
      "  warnings.warn(\n"
     ]
    },
    {
     "data": {
      "application/vnd.jupyter.widget-view+json": {
       "model_id": "97b119c2e882499181626656c23bb0e2",
       "version_major": 2,
       "version_minor": 0
      },
      "text/plain": [
       "Loading checkpoint shards:   0%|          | 0/3 [00:00<?, ?it/s]"
      ]
     },
     "metadata": {},
     "output_type": "display_data"
    },
    {
     "name": "stderr",
     "output_type": "stream",
     "text": [
      "WARNING:root:Some parameters are on the meta device device because they were offloaded to the cpu.\n"
     ]
    },
    {
     "name": "stdout",
     "output_type": "stream",
     "text": [
      "Loaded model\n"
     ]
    },
    {
     "data": {
      "text/plain": [
       "MistralForCausalLM(\n",
       "  (model): MistralModel(\n",
       "    (embed_tokens): Embedding(32002, 4096)\n",
       "    (layers): ModuleList(\n",
       "      (0-31): 32 x MistralDecoderLayer(\n",
       "        (self_attn): MistralSdpaAttention(\n",
       "          (q_proj): Linear(in_features=4096, out_features=4096, bias=False)\n",
       "          (k_proj): Linear(in_features=4096, out_features=1024, bias=False)\n",
       "          (v_proj): Linear(in_features=4096, out_features=1024, bias=False)\n",
       "          (o_proj): Linear(in_features=4096, out_features=4096, bias=False)\n",
       "          (rotary_emb): MistralRotaryEmbedding()\n",
       "        )\n",
       "        (mlp): MistralMLP(\n",
       "          (gate_proj): Linear(in_features=4096, out_features=14336, bias=False)\n",
       "          (up_proj): Linear(in_features=4096, out_features=14336, bias=False)\n",
       "          (down_proj): Linear(in_features=14336, out_features=4096, bias=False)\n",
       "          (act_fn): SiLU()\n",
       "        )\n",
       "        (input_layernorm): MistralRMSNorm()\n",
       "        (post_attention_layernorm): MistralRMSNorm()\n",
       "      )\n",
       "    )\n",
       "    (norm): MistralRMSNorm()\n",
       "  )\n",
       "  (lm_head): Linear(in_features=4096, out_features=32002, bias=False)\n",
       "  (talk_head): ModuleList(\n",
       "    (0): Sequential(\n",
       "      (0): Linear(in_features=8192, out_features=4096, bias=True)\n",
       "      (1): ReLU()\n",
       "      (2): Linear(in_features=4096, out_features=4096, bias=True)\n",
       "      (3): ReLU()\n",
       "      (4): Linear(in_features=4096, out_features=1, bias=False)\n",
       "    )\n",
       "  )\n",
       ")"
      ]
     },
     "execution_count": 16,
     "metadata": {},
     "output_type": "execute_result"
    }
   ],
   "source": [
    "params = None\n",
    "if params is None:\n",
    "    params = {}\n",
    "else:\n",
    "    params = params.params\n",
    "n_ahead = params.get(\"n_ahead\", args.n_ahead if not args.baseline else 1)\n",
    "n_ahead_talk = 1\n",
    "use_start_thought_token = params.get(\"use_start_thought_token\", True)\n",
    "use_end_thought_token = params.get(\"use_end_thought_token\", True)\n",
    "include_policy_loss = params.get(\"include_policy_loss\", True)\n",
    "gumbel_detach = params.get(\"gumbel_detach\", True)\n",
    "merged_talk_heads = params.get(\"merged_talk_heads\", True)\n",
    "residual_think_head = params.get(\"residual_think_head\", False)\n",
    "optimize_lm_head_only_at_start = params.get(\"optimize_lm_head_only_at_start\", False)\n",
    "print(\"Loading model\")\n",
    "model = MistralForCausalLM.from_pretrained(\n",
    "    args.checkpoint,\n",
    "    torch_dtype=torch.bfloat16 if torch.cuda.is_available() else torch.float32,\n",
    "    device_map='auto',\n",
    "    cache_dir=args.root_prefix + \"cache\",\n",
    "    max_thoughts=n_ahead + n_ahead_talk + 1,\n",
    "    merged_talk_heads=merged_talk_heads,\n",
    "    merged_lm_and_talk_heads=False,\n",
    "    merged_lm_and_think_heads=True,\n",
    "    use_concat_talk_head=True,\n",
    "    use_shallow_think=True,\n",
    "    use_shallow_talk=False,\n",
    "    use_complex_think_head=False,\n",
    "    use_complex_talk_head=True,\n",
    "    use_weighted_talk_head=True,\n",
    ")\n",
    "print(\"Loaded model\")\n",
    "tokenizer = AutoTokenizer.from_pretrained(\"mistralai/Mistral-7B-v0.1\")\n",
    "tokenizer.padding_side = \"right\"\n",
    "tokenizer.pad_token_id = tokenizer.eos_token_id\n",
    "special_tokens_to_add = []\n",
    "if model.use_start_thought_token:\n",
    "    special_tokens_to_add.append(\"<|startthought|>\")\n",
    "if model.use_end_thought_token:\n",
    "    special_tokens_to_add.append(\"<|endthought|>\")\n",
    "if special_tokens_to_add:\n",
    "    tokenizer.add_special_tokens({\"additional_special_tokens\": special_tokens_to_add})\n",
    "    model.resize_token_embeddings(len(tokenizer))\n",
    "model.tokenizer = tokenizer\n",
    "model.gumbel_detach = gumbel_detach\n",
    "model.include_policy_loss = include_policy_loss\n",
    "model.use_end_thought_token = use_end_thought_token\n",
    "model.use_start_thought_token = use_start_thought_token\n",
    "model.n_ahead = n_ahead\n",
    "model.n_ahead_talk = n_ahead_talk\n",
    "model.n_passes = 1\n",
    "model.residual_think_head = residual_think_head\n",
    "if args.baseline:\n",
    "    model.skip_residual = True\n",
    "    model.cumulative_residual = False\n",
    "    model.clever_residual = False\n",
    "    model.base_residual = False\n",
    "model.optimize_lm_head_only_at_start = optimize_lm_head_only_at_start\n",
    "model.use_policy_loss = False\n",
    "model.rm_initialized = True\n",
    "model.first_run = False\n",
    "model.wandb_enabled = False\n",
    "model.config_params = params\n",
    "model.run_start = int(time.time())\n",
    "model.eval_mode = True\n",
    "model.eval()\n"
   ]
  },
  {
   "cell_type": "code",
   "execution_count": null,
   "metadata": {},
   "outputs": [],
   "source": []
  },
  {
   "cell_type": "code",
   "execution_count": 7,
   "metadata": {},
   "outputs": [
    {
     "name": "stdout",
     "output_type": "stream",
     "text": [
      "Loaded model\n"
     ]
    },
    {
     "data": {
      "application/vnd.jupyter.widget-view+json": {
       "model_id": "70ff329b8c024f63b25dcf8e43f8f227",
       "version_major": 2,
       "version_minor": 0
      },
      "text/plain": [
       "tokenizer_config.json:   0%|          | 0.00/1.38k [00:00<?, ?B/s]"
      ]
     },
     "metadata": {},
     "output_type": "display_data"
    },
    {
     "data": {
      "application/vnd.jupyter.widget-view+json": {
       "model_id": "5e8f5f38a15e4982b5b074f52353e81d",
       "version_major": 2,
       "version_minor": 0
      },
      "text/plain": [
       "tokenizer.model:   0%|          | 0.00/493k [00:00<?, ?B/s]"
      ]
     },
     "metadata": {},
     "output_type": "display_data"
    },
    {
     "data": {
      "application/vnd.jupyter.widget-view+json": {
       "model_id": "2f8b944734e740ff8b698793c0c1276e",
       "version_major": 2,
       "version_minor": 0
      },
      "text/plain": [
       "tokenizer.json:   0%|          | 0.00/1.80M [00:00<?, ?B/s]"
      ]
     },
     "metadata": {},
     "output_type": "display_data"
    },
    {
     "data": {
      "application/vnd.jupyter.widget-view+json": {
       "model_id": "870d3430cb424f3c9da9d62dab87298f",
       "version_major": 2,
       "version_minor": 0
      },
      "text/plain": [
       "added_tokens.json:   0%|          | 0.00/59.0 [00:00<?, ?B/s]"
      ]
     },
     "metadata": {},
     "output_type": "display_data"
    },
    {
     "data": {
      "application/vnd.jupyter.widget-view+json": {
       "model_id": "04952773736a4a8d9ebddb0daf34068a",
       "version_major": 2,
       "version_minor": 0
      },
      "text/plain": [
       "special_tokens_map.json:   0%|          | 0.00/772 [00:00<?, ?B/s]"
      ]
     },
     "metadata": {},
     "output_type": "display_data"
    },
    {
     "name": "stderr",
     "output_type": "stream",
     "text": [
      "Special tokens have been added in the vocabulary, make sure the associated word embeddings are fine-tuned or trained.\n"
     ]
    },
    {
     "ename": "AttributeError",
     "evalue": "'MistralForCausalLM' object has no attribute 'use_start_thought_token'",
     "output_type": "error",
     "traceback": [
      "\u001b[0;31m---------------------------------------------------------------------------\u001b[0m",
      "\u001b[0;31mAttributeError\u001b[0m                            Traceback (most recent call last)",
      "Cell \u001b[0;32mIn[7], line 6\u001b[0m\n\u001b[1;32m      4\u001b[0m tokenizer\u001b[38;5;241m.\u001b[39mpad_token_id \u001b[38;5;241m=\u001b[39m tokenizer\u001b[38;5;241m.\u001b[39meos_token_id\n\u001b[1;32m      5\u001b[0m special_tokens_to_add \u001b[38;5;241m=\u001b[39m []\n\u001b[0;32m----> 6\u001b[0m \u001b[38;5;28;01mif\u001b[39;00m \u001b[43mmodel\u001b[49m\u001b[38;5;241;43m.\u001b[39;49m\u001b[43muse_start_thought_token\u001b[49m:\n\u001b[1;32m      7\u001b[0m     special_tokens_to_add\u001b[38;5;241m.\u001b[39mappend(\u001b[38;5;124m\"\u001b[39m\u001b[38;5;124m<|startthought|>\u001b[39m\u001b[38;5;124m\"\u001b[39m)\n\u001b[1;32m      8\u001b[0m \u001b[38;5;28;01mif\u001b[39;00m model\u001b[38;5;241m.\u001b[39muse_end_thought_token:\n",
      "File \u001b[0;32m/media/wassname/SGIronWolf/projects5/2024/quiet-star/.venv/lib/python3.9/site-packages/torch/nn/modules/module.py:1688\u001b[0m, in \u001b[0;36mModule.__getattr__\u001b[0;34m(self, name)\u001b[0m\n\u001b[1;32m   1686\u001b[0m     \u001b[38;5;28;01mif\u001b[39;00m name \u001b[38;5;129;01min\u001b[39;00m modules:\n\u001b[1;32m   1687\u001b[0m         \u001b[38;5;28;01mreturn\u001b[39;00m modules[name]\n\u001b[0;32m-> 1688\u001b[0m \u001b[38;5;28;01mraise\u001b[39;00m \u001b[38;5;167;01mAttributeError\u001b[39;00m(\u001b[38;5;124mf\u001b[39m\u001b[38;5;124m\"\u001b[39m\u001b[38;5;124m'\u001b[39m\u001b[38;5;132;01m{\u001b[39;00m\u001b[38;5;28mtype\u001b[39m(\u001b[38;5;28mself\u001b[39m)\u001b[38;5;241m.\u001b[39m\u001b[38;5;18m__name__\u001b[39m\u001b[38;5;132;01m}\u001b[39;00m\u001b[38;5;124m'\u001b[39m\u001b[38;5;124m object has no attribute \u001b[39m\u001b[38;5;124m'\u001b[39m\u001b[38;5;132;01m{\u001b[39;00mname\u001b[38;5;132;01m}\u001b[39;00m\u001b[38;5;124m'\u001b[39m\u001b[38;5;124m\"\u001b[39m)\n",
      "\u001b[0;31mAttributeError\u001b[0m: 'MistralForCausalLM' object has no attribute 'use_start_thought_token'"
     ]
    }
   ],
   "source": []
  },
  {
   "cell_type": "code",
   "execution_count": null,
   "metadata": {},
   "outputs": [],
   "source": []
  }
 ],
 "metadata": {
  "kernelspec": {
   "display_name": ".venv",
   "language": "python",
   "name": "python3"
  },
  "language_info": {
   "codemirror_mode": {
    "name": "ipython",
    "version": 3
   },
   "file_extension": ".py",
   "mimetype": "text/x-python",
   "name": "python",
   "nbconvert_exporter": "python",
   "pygments_lexer": "ipython3",
   "version": "3.9.16"
  }
 },
 "nbformat": 4,
 "nbformat_minor": 2
}
